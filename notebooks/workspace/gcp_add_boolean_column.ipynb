{
 "cells": [
  {
   "cell_type": "markdown",
   "id": "f5501904",
   "metadata": {},
   "source": [
    "# Testing SQL Syntax on adding TRUE/FALSE Column with BigQuery"
   ]
  },
  {
   "cell_type": "code",
   "execution_count": null,
   "id": "264b2d32-3a49-4ff1-aa2f-14bc3afb846b",
   "metadata": {},
   "outputs": [
    {
     "name": "stdout",
     "output_type": "stream",
     "text": [
      "GCP BigQuery client initialized and verified.\n",
      "running query: \n",
      "    SELECT\n",
      "        string_field_3,\n",
      "        AI.GENERATE_BOOL(\n",
      "            ('Check if this field aligns with expected data type: STRING given its respective source data table description: This source dataset contains data on a Cafe Store total sales. This data field contains the prices per unit sold.'),\n",
      "            connection_id => 'projects/gaby-472309/locations/us/connections/__default_cloudresource_connection__',\n",
      "            endpoint => 'gemini-2.5-flash-lite'\n",
      "        ).result\n",
      "    FROM\n",
      "        `gaby-472309.cafe_sales_db.data`\n",
      "    LIMIT 10;\n",
      "    \n"
     ]
    },
    {
     "name": "stderr",
     "output_type": "stream",
     "text": [
      "/Users/mimiphan/mimeus-app/backend/gaby/.venv/lib/python3.10/site-packages/google/cloud/bigquery/table.py:1994: UserWarning: BigQuery Storage module not found, fetch data with the REST endpoint instead.\n",
      "  warnings.warn(\n"
     ]
    }
   ],
   "source": [
    "\"\"\"\n",
    "gbigquery/cleaner.py\n",
    "\n",
    "Contains helper functions for Data Cleaning stage using BigQuery ML/AI methods.\n",
    "\n",
    "\"\"\"\n",
    "\n",
    "import os\n",
    "from pathlib import Path\n",
    "\n",
    "os.chdir(Path(__file__).resolve().parents[4]) if \"__file__\" in globals() else os.chdir(Path.cwd().root)\n",
    "\n",
    "from dotenv import load_dotenv\n",
    "from google.cloud import bigquery\n",
    "from google.oauth2 import service_account\n",
    "\n",
    "load_dotenv('.env.local')\n",
    "\n",
    "if credentials_path := os.getenv(\"GOOGLE_APPLICATION_CREDENTIALS\", None):\n",
    "    if not os.path.isfile(credentials_path):\n",
    "        raise FileNotFoundError(f\"Credentials file not found at {credentials_path}\")\n",
    "\n",
    "    credentials = service_account.Credentials.from_service_account_file(\n",
    "        credentials_path\n",
    "    )\n",
    "    client = bigquery.Client(credentials=credentials, project=credentials.project_id)\n",
    "else:\n",
    "    raise EnvironmentError(\"GOOGLE_APPLICATION_CREDENTIALS environment variable not set.\")\n",
    "\n",
    "print('GCP BigQuery client initialized and verified.')\n",
    "\n",
    "PROJECT_ID = client.project\n",
    "BQ_MODEL_ID = f\"{PROJECT_ID}.open_source_db.base\"\n",
    "BQ_MODEL_REMOTE_ENDPOINT = f\"projects/gaby-472309/locations/us-central1/publishers/google/models/gemini-2.5-flash-lite\"\n",
    "BQ_MODEL_REMOTE_ENDPOINT = \"projects/gaby-472309/locations/us/connections/__default_cloudresource_connection__\"\n",
    "BQ_MODEL_TYPE = \"gemini-2.5-flash-lite\"\n",
    "\n",
    "DATASET_ID = \"cafe_sales_db\"\n",
    "TABLE_ID = \"data\"\n",
    "BQ_DATA_ID = f\"{PROJECT_ID}.{DATASET_ID}.{TABLE_ID}\"\n",
    "\n",
    "def load_table(\n",
    "    table_id: str = BQ_DATA_ID,\n",
    "    client: bigquery.Client = client,\n",
    "):\n",
    "    \"\"\"Load a BigQuery table into a pandas DataFrame.\"\"\"\n",
    "\n",
    "    query = f\"SELECT * FROM `{table_id}`\"\n",
    "    return client.query(query).to_dataframe()\n",
    "\n",
    "def detect_datatype(\n",
    "    file_path: str = \"src/gaby_agent/data/input/dirty_cafe_sales.csv\",\n",
    "    table_id: str = BQ_DATA_ID,\n",
    "    client: bigquery.Client =client,\n",
    "    return_dataset: bool = True\n",
    "):\n",
    "    \"\"\"Detect the data type of each column in a CSV file using BigQuery's schema detection.\"\"\"\n",
    "\n",
    "    job_config = bigquery.LoadJobConfig(\n",
    "        autodetect=True,\n",
    "        source_format=bigquery.SourceFormat.CSV,\n",
    "        skip_leading_rows=0,  # Skip header row\n",
    "        write_disposition=bigquery.WriteDisposition.WRITE_TRUNCATE\n",
    "    )\n",
    "\n",
    "    with open(file_path, \"rb\") as source_file:\n",
    "        load_job = client.load_table_from_file(\n",
    "            source_file, table_id, job_config=job_config\n",
    "        )\n",
    "\n",
    "    load_job.result()  # Wait for the job to complete\n",
    "\n",
    "    table = client.get_table(table_id)\n",
    "\n",
    "    if return_dataset is True:\n",
    "        return load_table(table_id), table.schema\n",
    "    else:\n",
    "        return table.schema\n",
    "\n",
    "def validate_data_field_labels():\n",
    "    \"\"\"Validate and clean data field labels in the BigQuery table schema. CHANGE to prompt so that the LLM can review the first 5 subsets of the data columns. and decipher the data label if not loaded properly.  \"\"\"\n",
    "\n",
    "    query = f\"\"\"\n",
    "    SELECT\n",
    "      column_name,\n",
    "      data_type,\n",
    "      is_nullable\n",
    "    FROM\n",
    "      `{PROJECT_ID}.{DATASET_ID}.INFORMATION_SCHEMA.COLUMNS`\n",
    "    WHERE\n",
    "      table_name = '{TABLE_ID}'\n",
    "    \"\"\"\n",
    "    results = client.query(query).result()\n",
    "\n",
    "    for row in results:\n",
    "        print(f\"Column: {row.column_name}, Type: {row.data_type}, Nullable: {row.is_nullable}\")\n",
    "\n",
    "def validate_data_field(\n",
    "    data_label: str = \"string_field_3\",\n",
    "    data_type: str = \"STRING\",\n",
    "    data_field_description: str = \"This source dataset contains data on a Cafe Store total sales. This data field contains the prices per unit sold.\",\n",
    "    table_id: str = BQ_DATA_ID,\n",
    "    client: bigquery.Client = client,\n",
    "):\n",
    "\n",
    "    query = f\"\"\"\n",
    "    SELECT\n",
    "        {data_label},\n",
    "        AI.GENERATE_BOOL(\n",
    "            ('Check if this field aligns with expected data type: {data_type} given its respective source data table description: {data_field_description}'),\n",
    "            connection_id => '{BQ_MODEL_REMOTE_ENDPOINT}',\n",
    "            endpoint => '{BQ_MODEL_TYPE}'\n",
    "        ).result\n",
    "    FROM\n",
    "        `{table_id}`\n",
    "    LIMIT 10;\n",
    "    \"\"\"\n",
    "    print(f'running query: {query}')\n",
    "    return client.query(query).to_dataframe()\n",
    "\n",
    "results = validate_data_field()\n",
    "\n",
    "#gb = get_data_schema_from_existing_table()"
   ]
  },
  {
   "cell_type": "code",
   "execution_count": null,
   "id": "103e38b2",
   "metadata": {},
   "outputs": [
    {
     "data": {
      "application/vnd.microsoft.datawrangler.viewer.v0+json": {
       "columns": [
        {
         "name": "index",
         "rawType": "int64",
         "type": "integer"
        },
        {
         "name": "string_field_3",
         "rawType": "object",
         "type": "string"
        },
        {
         "name": "result",
         "rawType": "boolean",
         "type": "boolean"
        }
       ],
       "ref": "3931ef8e-50cf-41b4-96b3-feca1ab4bb19",
       "rows": [
        [
         "0",
         "1.0",
         "True"
        ],
        [
         "1",
         "1.0",
         "True"
        ],
        [
         "2",
         "1.0",
         "True"
        ],
        [
         "3",
         "1.0",
         "True"
        ],
        [
         "4",
         "2.0",
         "False"
        ],
        [
         "5",
         "4.0",
         "True"
        ],
        [
         "6",
         "1.0",
         "False"
        ],
        [
         "7",
         "5.0",
         "True"
        ],
        [
         "8",
         "1.0",
         "True"
        ],
        [
         "9",
         "1.0",
         "True"
        ]
       ],
       "shape": {
        "columns": 2,
        "rows": 10
       }
      },
      "text/html": [
       "<div>\n",
       "<style scoped>\n",
       "    .dataframe tbody tr th:only-of-type {\n",
       "        vertical-align: middle;\n",
       "    }\n",
       "\n",
       "    .dataframe tbody tr th {\n",
       "        vertical-align: top;\n",
       "    }\n",
       "\n",
       "    .dataframe thead th {\n",
       "        text-align: right;\n",
       "    }\n",
       "</style>\n",
       "<table border=\"1\" class=\"dataframe\">\n",
       "  <thead>\n",
       "    <tr style=\"text-align: right;\">\n",
       "      <th></th>\n",
       "      <th>string_field_3</th>\n",
       "      <th>result</th>\n",
       "    </tr>\n",
       "  </thead>\n",
       "  <tbody>\n",
       "    <tr>\n",
       "      <th>0</th>\n",
       "      <td>1.0</td>\n",
       "      <td>True</td>\n",
       "    </tr>\n",
       "    <tr>\n",
       "      <th>1</th>\n",
       "      <td>1.0</td>\n",
       "      <td>True</td>\n",
       "    </tr>\n",
       "    <tr>\n",
       "      <th>2</th>\n",
       "      <td>1.0</td>\n",
       "      <td>True</td>\n",
       "    </tr>\n",
       "    <tr>\n",
       "      <th>3</th>\n",
       "      <td>1.0</td>\n",
       "      <td>True</td>\n",
       "    </tr>\n",
       "    <tr>\n",
       "      <th>4</th>\n",
       "      <td>2.0</td>\n",
       "      <td>False</td>\n",
       "    </tr>\n",
       "    <tr>\n",
       "      <th>5</th>\n",
       "      <td>4.0</td>\n",
       "      <td>True</td>\n",
       "    </tr>\n",
       "    <tr>\n",
       "      <th>6</th>\n",
       "      <td>1.0</td>\n",
       "      <td>False</td>\n",
       "    </tr>\n",
       "    <tr>\n",
       "      <th>7</th>\n",
       "      <td>5.0</td>\n",
       "      <td>True</td>\n",
       "    </tr>\n",
       "    <tr>\n",
       "      <th>8</th>\n",
       "      <td>1.0</td>\n",
       "      <td>True</td>\n",
       "    </tr>\n",
       "    <tr>\n",
       "      <th>9</th>\n",
       "      <td>1.0</td>\n",
       "      <td>True</td>\n",
       "    </tr>\n",
       "  </tbody>\n",
       "</table>\n",
       "</div>"
      ],
      "text/plain": [
       "  string_field_3  result\n",
       "0            1.0    True\n",
       "1            1.0    True\n",
       "2            1.0    True\n",
       "3            1.0    True\n",
       "4            2.0   False\n",
       "5            4.0    True\n",
       "6            1.0   False\n",
       "7            5.0    True\n",
       "8            1.0    True\n",
       "9            1.0    True"
      ]
     },
     "execution_count": 49,
     "metadata": {},
     "output_type": "execute_result"
    }
   ],
   "source": [
    "results"
   ]
  }
 ],
 "metadata": {
  "kernelspec": {
   "display_name": ".venv (3.10.13)",
   "language": "python",
   "name": "python3"
  },
  "language_info": {
   "codemirror_mode": {
    "name": "ipython",
    "version": 3
   },
   "file_extension": ".py",
   "mimetype": "text/x-python",
   "name": "python",
   "nbconvert_exporter": "python",
   "pygments_lexer": "ipython3",
   "version": "3.10.13"
  }
 },
 "nbformat": 4,
 "nbformat_minor": 5
}
