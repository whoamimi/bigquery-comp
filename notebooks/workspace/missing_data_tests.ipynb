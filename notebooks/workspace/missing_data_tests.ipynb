{
 "cells": [
  {
   "cell_type": "markdown",
   "id": "7a5c3759",
   "metadata": {},
   "source": [
    "# Missing dataset"
   ]
  },
  {
   "cell_type": "markdown",
   "id": "180419f5",
   "metadata": {},
   "source": [
    "**Objective**\n",
    "\n",
    "- To test statistical methods in classifying missing dataset to MAR, MNAR, MCAR."
   ]
  },
  {
   "cell_type": "code",
   "execution_count": null,
   "id": "9a7a576a",
   "metadata": {},
   "outputs": [],
   "source": [
    "import pandas as pd\n",
    "import numpy as np\n",
    "from scipy import stats\n",
    "import statsmodels.api as sm\n",
    "\n",
    "def test_for_mar(df, target_col, alpha=0.05):\n",
    "    df = df.copy()\n",
    "    df[\"is_missing\"] = df[target_col].isna().astype(int)\n",
    "\n",
    "    results = {}\n",
    "    for col in df.columns.drop([target_col, \"is_missing\"]):\n",
    "        x = df[col]\n",
    "        if pd.api.types.is_numeric_dtype(x):\n",
    "            # Compare means: missing vs not-missing\n",
    "            group1 = x[df[\"is_missing\"] == 1]\n",
    "            group0 = x[df[\"is_missing\"] == 0]\n",
    "            if len(group1) > 1 and len(group0) > 1:\n",
    "                t, p = stats.ttest_ind(group1, group0, equal_var=False, nan_policy=\"omit\")\n",
    "                results[col] = {\"test\": \"t-test\", \"p\": p}\n",
    "        else:\n",
    "            # Categorical predictor\n",
    "            tbl = pd.crosstab(df[\"is_missing\"], x)\n",
    "            chi2, p, _, _ = stats.chi2_contingency(tbl)\n",
    "            results[col] = {\"test\": \"chi2\", \"p\": p}\n",
    "\n",
    "    # mark significance\n",
    "    sig = [col for col, res in results.items() if res[\"p\"] < alpha]\n",
    "    return {\"col_tested\": target_col,\n",
    "            \"n_missing\": int(df[\"is_missing\"].sum()),\n",
    "            \"significant_predictors\": sig,\n",
    "            \"all_tests\": results}"
   ]
  },
  {
   "cell_type": "code",
   "execution_count": null,
   "id": "9a75d904",
   "metadata": {},
   "outputs": [],
   "source": [
    "def mock_fake_mar(n=1000):\n",
    "    np.random.seed(0)\n",
    "    df = pd.DataFrame({\n",
    "        \"age\": np.random.randint(18, 70, size=n),\n",
    "        \"income\": np.random.normal(50000, 15000, size=n),\n",
    "         \"country\": np.random.choice([\"US\", \"UK\", \"CA\"], size=n)\n",
    "    })\n",
    "    df.loc[df[\"age\"] < 30, \"income\"] = np.nan  # induce MAR\n",
    "    return df\n",
    "\n",
    "\n",
    "def mock_fake_mcar(n=1000, missing_rate=0.2):\n",
    "    np.random.seed(0)\n",
    "    df = pd.DataFrame({\n",
    "        \"age\": np.random.randint(18, 70, size=n),\n",
    "        \"income\": np.random.normal(50000, 15000, size=n),\n",
    "        \"country\": np.random.choice([\"US\", \"UK\", \"CA\"], size=n)\n",
    "    })\n",
    "\n",
    "    missing_indices = np.random.choice(df.index, size=int(n * missing_rate), replace=False)\n",
    "    df.loc[missing_indices, \"income\"] = np.nan  # induce MCAR\n",
    "    return df"
   ]
  },
  {
   "cell_type": "code",
   "execution_count": 19,
   "id": "936ce997",
   "metadata": {},
   "outputs": [
    {
     "name": "stdout",
     "output_type": "stream",
     "text": [
      "MAR {'col_tested': 'income', 'n_missing': 244, 'significant_predictors': ['age'], 'all_tests': {'age': {'test': 't-test', 'p': 8.164484258141333e-309}, 'country': {'test': 'chi2', 'p': 0.8414869783893579}}}\n",
      "MCAR {'col_tested': 'income', 'n_missing': 200, 'significant_predictors': [], 'all_tests': {'age': {'test': 't-test', 'p': 0.5159530611478425}, 'country': {'test': 'chi2', 'p': 0.08099854947030145}}}\n"
     ]
    }
   ],
   "source": [
    "import numpy as np\n",
    "\n",
    "# Fake dataset: income missing more often when age < 30\n",
    "np.random.seed(0)\n",
    "\n",
    "mar_df = mock_fake_mar()\n",
    "mcar_df = mock_fake_mcar()\n",
    "\n",
    "true_mar_result = test_for_mar(mar_df, \"income\")\n",
    "mcar_result = test_for_mar(mcar_df, \"income\")  # should show no significant predictors\n",
    "\n",
    "print(\"MAR\", true_mar_result)\n",
    "print(\"MCAR\", mcar_result)"
   ]
  },
  {
   "cell_type": "code",
   "execution_count": 17,
   "id": "25a8e394",
   "metadata": {},
   "outputs": [
    {
     "data": {
      "text/plain": [
       "{'col_tested': 'income',\n",
       " 'n_missing': 200,\n",
       " 'significant_predictors': [],\n",
       " 'all_tests': {'age': {'test': 't-test', 'p': 0.17011817260280057}}}"
      ]
     },
     "execution_count": 17,
     "metadata": {},
     "output_type": "execute_result"
    }
   ],
   "source": [
    "test_for_mar(mcar_df, \"income\")  # should show no significant predictors"
   ]
  }
 ],
 "metadata": {
  "kernelspec": {
   "display_name": "march",
   "language": "python",
   "name": "python3"
  },
  "language_info": {
   "codemirror_mode": {
    "name": "ipython",
    "version": 3
   },
   "file_extension": ".py",
   "mimetype": "text/x-python",
   "name": "python",
   "nbconvert_exporter": "python",
   "pygments_lexer": "ipython3",
   "version": "3.12.2"
  }
 },
 "nbformat": 4,
 "nbformat_minor": 5
}
